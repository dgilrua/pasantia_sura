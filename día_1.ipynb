{
 "cells": [
  {
   "cell_type": "markdown",
   "metadata": {},
   "source": [
    "# Importación de librerías y datos"
   ]
  },
  {
   "cell_type": "code",
   "execution_count": 4,
   "metadata": {},
   "outputs": [],
   "source": [
    "#importar las librerías\n",
    "import pandas as pd\n",
    "import numpy as np\n",
    "import matplotlib.pyplot as plt\n",
    "import seaborn as sb\n",
    "\n",
    "import warnings\n",
    "warnings.filterwarnings(\"ignore\")"
   ]
  },
  {
   "cell_type": "code",
   "execution_count": 5,
   "metadata": {},
   "outputs": [
    {
     "data": {
      "text/plain": [
       "'c:\\\\Users\\\\dgilr\\\\Desktop\\\\Pasantia'"
      ]
     },
     "execution_count": 5,
     "metadata": {},
     "output_type": "execute_result"
    }
   ],
   "source": [
    "import os \n",
    "os.getcwd()"
   ]
  },
  {
   "cell_type": "code",
   "execution_count": 84,
   "metadata": {},
   "outputs": [],
   "source": [
    "#importar bases de datos\n",
    "\n",
    "inflacion=pd.read_csv('inflacion.csv',delimiter=\";\")\n",
    "desarrollopagosAT=pd.read_csv('desarrollopagosAT.csv')\n",
    "desarrollopagosEL=pd.read_csv('desarrollopagosEL.csv')\n",
    "siniestros = pd.read_csv('siniestros.csv')\n"
   ]
  },
  {
   "cell_type": "code",
   "execution_count": 85,
   "metadata": {},
   "outputs": [],
   "source": [
    "#preparación\n",
    "\n",
    "siniestros_at = siniestros[siniestros['Riesgo'] == 'AT'].groupby(\"Periodo\")['Valor_Pagado'].mean()\n",
    "siniestros_el = siniestros[siniestros['Riesgo'] == 'EL'].groupby(\"Periodo\")['Valor_Pagado'].mean()\n",
    "\n",
    "\n",
    "inflacionfiltrado = inflacion.loc[25:32,\"Inflacion\"]\n",
    "inflacionfiltrado.index = siniestros_at.index"
   ]
  },
  {
   "cell_type": "markdown",
   "metadata": {},
   "source": [
    "# Siniestros Accidentes de trabajos"
   ]
  },
  {
   "cell_type": "markdown",
   "metadata": {},
   "source": [
    "## Cálculo alfas 2016-2022"
   ]
  },
  {
   "cell_type": "code",
   "execution_count": 86,
   "metadata": {},
   "outputs": [],
   "source": [
    "alfa_at = pd.DataFrame({\n",
    "    'Costo': siniestros_at.values.flatten(),  # Asegurarse de que sea un arreglo 1D\n",
    "    'Inflacion': inflacionfiltrado.values.flatten()  # Asegurarse de que sea un arreglo 1D\n",
    "}, index=inflacionfiltrado.index)\n",
    "\n",
    "alfa_at\n",
    "alfa_at[\"alfa\"]=0"
   ]
  },
  {
   "attachments": {
    "image.png": {
     "image/png": "[encoded data removed]"
    }
   },
   "cell_type": "markdown",
   "metadata": {},
   "source": [
    "![image.png](attachment:image.png)"
   ]
  },
  {
   "cell_type": "code",
   "execution_count": 87,
   "metadata": {},
   "outputs": [
    {
     "data": {
      "text/html": [
       "<div>\n",
       "<style scoped>\n",
       "    .dataframe tbody tr th:only-of-type {\n",
       "        vertical-align: middle;\n",
       "    }\n",
       "\n",
       "    .dataframe tbody tr th {\n",
       "        vertical-align: top;\n",
       "    }\n",
       "\n",
       "    .dataframe thead th {\n",
       "        text-align: right;\n",
       "    }\n",
       "</style>\n",
       "<table border=\"1\" class=\"dataframe\">\n",
       "  <thead>\n",
       "    <tr style=\"text-align: right;\">\n",
       "      <th></th>\n",
       "      <th>Costo</th>\n",
       "      <th>Inflacion</th>\n",
       "      <th>alfa</th>\n",
       "    </tr>\n",
       "    <tr>\n",
       "      <th>Periodo</th>\n",
       "      <th></th>\n",
       "      <th></th>\n",
       "      <th></th>\n",
       "    </tr>\n",
       "  </thead>\n",
       "  <tbody>\n",
       "    <tr>\n",
       "      <th>2015</th>\n",
       "      <td>14.995094</td>\n",
       "      <td>0.053056</td>\n",
       "      <td>NaN</td>\n",
       "    </tr>\n",
       "    <tr>\n",
       "      <th>2016</th>\n",
       "      <td>16.190490</td>\n",
       "      <td>0.053963</td>\n",
       "      <td>0.024438</td>\n",
       "    </tr>\n",
       "    <tr>\n",
       "      <th>2017</th>\n",
       "      <td>17.617992</td>\n",
       "      <td>0.055277</td>\n",
       "      <td>0.031170</td>\n",
       "    </tr>\n",
       "    <tr>\n",
       "      <th>2018</th>\n",
       "      <td>19.969143</td>\n",
       "      <td>0.063357</td>\n",
       "      <td>0.065919</td>\n",
       "    </tr>\n",
       "    <tr>\n",
       "      <th>2019</th>\n",
       "      <td>22.957189</td>\n",
       "      <td>0.062752</td>\n",
       "      <td>0.081751</td>\n",
       "    </tr>\n",
       "    <tr>\n",
       "      <th>2020</th>\n",
       "      <td>24.784282</td>\n",
       "      <td>0.063962</td>\n",
       "      <td>0.014686</td>\n",
       "    </tr>\n",
       "    <tr>\n",
       "      <th>2021</th>\n",
       "      <td>27.151399</td>\n",
       "      <td>0.070130</td>\n",
       "      <td>0.023716</td>\n",
       "    </tr>\n",
       "    <tr>\n",
       "      <th>2022</th>\n",
       "      <td>29.140790</td>\n",
       "      <td>0.066726</td>\n",
       "      <td>0.006135</td>\n",
       "    </tr>\n",
       "  </tbody>\n",
       "</table>\n",
       "</div>"
      ],
      "text/plain": [
       "             Costo  Inflacion      alfa\n",
       "Periodo                                \n",
       "2015     14.995094   0.053056       NaN\n",
       "2016     16.190490   0.053963  0.024438\n",
       "2017     17.617992   0.055277  0.031170\n",
       "2018     19.969143   0.063357  0.065919\n",
       "2019     22.957189   0.062752  0.081751\n",
       "2020     24.784282   0.063962  0.014686\n",
       "2021     27.151399   0.070130  0.023716\n",
       "2022     29.140790   0.066726  0.006135"
      ]
     },
     "execution_count": 87,
     "metadata": {},
     "output_type": "execute_result"
    }
   ],
   "source": [
    "#Cálculo de alfa\n",
    "costo = alfa_at.Costo.values\n",
    "inflacion_at = alfa_at.Inflacion.values\n",
    "alfatemp = []\n",
    "\n",
    "for i in range(len(costo)-1):\n",
    "    alfatemp.append(costo[i+1]/(costo[i]*(1+inflacion_at[i+1])) - 1)\n",
    "alfa_at[\"alfa\"][1:8] = alfatemp\n",
    "alfa_at[\"alfa\"][0:1] = np.NaN\n",
    "\n",
    "alfa_at"
   ]
  },
  {
   "cell_type": "code",
   "execution_count": 88,
   "metadata": {},
   "outputs": [],
   "source": [
    "alfa_el = pd.DataFrame({\n",
    "    'Costo': siniestros_el.values.flatten(),  # Asegurarse de que sea un arreglo 1D\n",
    "    'Inflacion': inflacionfiltrado.values.flatten()  # Asegurarse de que sea un arreglo 1D\n",
    "}, index=inflacionfiltrado.index)\n",
    "\n",
    "alfa_el\n",
    "alfa_el[\"alfa\"]=0"
   ]
  },
  {
   "cell_type": "code",
   "execution_count": 89,
   "metadata": {},
   "outputs": [
    {
     "data": {
      "text/plain": [
       "<Axes: xlabel='Periodo'>"
      ]
     },
     "execution_count": 89,
     "metadata": {},
     "output_type": "execute_result"
    },
    {
     "data": {
      "image/png": "[encoded data removed]",
      "text/plain": [
       "<Figure size 640x480 with 1 Axes>"
      ]
     },
     "metadata": {},
     "output_type": "display_data"
    }
   ],
   "source": [
    "#Cálculo de alfa\n",
    "costo = alfa_el.Costo.values\n",
    "inflacion_el = alfa_el.Inflacion.values\n",
    "alfatemp = []\n",
    "\n",
    "for i in range(len(costo)-1):\n",
    "    alfatemp.append(costo[i+1]/(costo[i]*(1+inflacion_el[i+1])) - 1)\n",
    "alfa_el[\"alfa\"][1:8] = alfatemp\n",
    "alfa_el[\"alfa\"][0:1] = np.NaN\n",
    "\n",
    "alfa_el[\"alfa\"].plot(kind=\"line\", marker=\"o\") "
   ]
  },
  {
   "cell_type": "code",
   "execution_count": 129,
   "metadata": {},
   "outputs": [],
   "source": [
    "from sklearn.linear_model import LinearRegression"
   ]
  },
  {
   "cell_type": "code",
   "execution_count": 148,
   "metadata": {},
   "outputs": [],
   "source": [
    "X = alfa_el.index.values.reshape(-1, 1)\n",
    "y = alfa_el.alfa.values\n",
    "\n",
    "model = LinearRegression()\n",
    "model.fit(X[1:], y[1:])\n",
    "\n",
    "prediccion_alfa = []\n",
    "años = [2023, 2024, 2025, 2026, 2027, 2028, 2029, 2030]\n",
    "for i in años:\n",
    "    prediccion_alfa.append(model.predict([[i]]) + np.random.normal(0, 0.0017))"
   ]
  },
  {
   "cell_type": "code",
   "execution_count": 149,
   "metadata": {},
   "outputs": [
    {
     "data": {
      "text/plain": [
       "[<matplotlib.lines.Line2D at 0x2472cb0f770>]"
      ]
     },
     "execution_count": 149,
     "metadata": {},
     "output_type": "execute_result"
    },
    {
     "data": {
      "image/png": "[encoded data removed]",
      "text/plain": [
       "<Figure size 640x480 with 1 Axes>"
      ]
     },
     "metadata": {},
     "output_type": "display_data"
    }
   ],
   "source": [
    "plt.plot(años, prediccion_alfa, marker=\"o\")\n",
    "plt.plot(X, y, marker=\"o\")"
   ]
  },
  {
   "cell_type": "code",
   "execution_count": 150,
   "metadata": {},
   "outputs": [],
   "source": [
    "model = LinearRegression()"
   ]
  },
  {
   "cell_type": "code",
   "execution_count": 151,
   "metadata": {},
   "outputs": [],
   "source": [
    "X = inflacion.Periodo.values.reshape(-1, 1)\n",
    "y = inflacion.Inflacion.values\n",
    "\n",
    "model.fit(X, y)\n",
    "\n",
    "prediccion_inflacion = []\n",
    "for i in años:\n",
    "    prediccion_inflacion.append(model.predict([[i]]) + np.random.normal(0, 0.0017))"
   ]
  },
  {
   "cell_type": "code",
   "execution_count": 152,
   "metadata": {},
   "outputs": [
    {
     "data": {
      "text/plain": [
       "[<matplotlib.lines.Line2D at 0x2472e8ad760>]"
      ]
     },
     "execution_count": 152,
     "metadata": {},
     "output_type": "execute_result"
    },
    {
     "data": {
      "image/png": "[encoded data removed]",
      "text/plain": [
       "<Figure size 640x480 with 1 Axes>"
      ]
     },
     "metadata": {},
     "output_type": "display_data"
    }
   ],
   "source": [
    "plt.plot(X, y, marker=\"o\")\n",
    "plt.plot(años, prediccion_inflacion, marker=\"o\")"
   ]
  },
  {
   "cell_type": "code",
   "execution_count": 153,
   "metadata": {},
   "outputs": [],
   "source": [
    "prediccion_alfa = np.array(prediccion_alfa).flatten()\n",
    "prediccion_inflacion = np.array(prediccion_inflacion).flatten()"
   ]
  },
  {
   "cell_type": "code",
   "execution_count": 154,
   "metadata": {},
   "outputs": [],
   "source": [
    "valor = [alfa_el.iloc[-1,0]]\n",
    "\n",
    "for i in range(len(prediccion_alfa)):\n",
    "    valor.append(valor[i]*(1+prediccion_alfa[i])*(1+prediccion_inflacion[i]))"
   ]
  },
  {
   "cell_type": "code",
   "execution_count": 155,
   "metadata": {},
   "outputs": [
    {
     "data": {
      "text/plain": [
       "[<matplotlib.lines.Line2D at 0x24724fe0500>]"
      ]
     },
     "execution_count": 155,
     "metadata": {},
     "output_type": "execute_result"
    },
    {
     "data": {
      "image/png": "[encoded data removed]",
      "text/plain": [
       "<Figure size 640x480 with 1 Axes>"
      ]
     },
     "metadata": {},
     "output_type": "display_data"
    }
   ],
   "source": [
    "plt.plot(alfa_el.Costo, marker=\"o\")\n",
    "plt.plot(años, valor[1:], marker=\"o\")"
   ]
  },
  {
   "cell_type": "markdown",
   "metadata": {},
   "source": [
    "## Entendimiento desarrollo de pagos"
   ]
  },
  {
   "cell_type": "markdown",
   "metadata": {},
   "source": [
    "### Accidente de trabajo"
   ]
  },
  {
   "cell_type": "code",
   "execution_count": 156,
   "metadata": {},
   "outputs": [
    {
     "data": {
      "text/html": [
       "<div>\n",
       "<style scoped>\n",
       "    .dataframe tbody tr th:only-of-type {\n",
       "        vertical-align: middle;\n",
       "    }\n",
       "\n",
       "    .dataframe tbody tr th {\n",
       "        vertical-align: top;\n",
       "    }\n",
       "\n",
       "    .dataframe thead th {\n",
       "        text-align: right;\n",
       "    }\n",
       "</style>\n",
       "<table border=\"1\" class=\"dataframe\">\n",
       "  <thead>\n",
       "    <tr style=\"text-align: right;\">\n",
       "      <th></th>\n",
       "      <th>Ocurrencia</th>\n",
       "      <th>Pago</th>\n",
       "      <th>Valor_pagado</th>\n",
       "    </tr>\n",
       "  </thead>\n",
       "  <tbody>\n",
       "    <tr>\n",
       "      <th>0</th>\n",
       "      <td>2018</td>\n",
       "      <td>2018</td>\n",
       "      <td>34.956130</td>\n",
       "    </tr>\n",
       "    <tr>\n",
       "      <th>1</th>\n",
       "      <td>2018</td>\n",
       "      <td>2019</td>\n",
       "      <td>32.076114</td>\n",
       "    </tr>\n",
       "    <tr>\n",
       "      <th>2</th>\n",
       "      <td>2018</td>\n",
       "      <td>2018</td>\n",
       "      <td>2.961294</td>\n",
       "    </tr>\n",
       "    <tr>\n",
       "      <th>3</th>\n",
       "      <td>2018</td>\n",
       "      <td>2018</td>\n",
       "      <td>41.921648</td>\n",
       "    </tr>\n",
       "    <tr>\n",
       "      <th>4</th>\n",
       "      <td>2018</td>\n",
       "      <td>2018</td>\n",
       "      <td>37.585113</td>\n",
       "    </tr>\n",
       "  </tbody>\n",
       "</table>\n",
       "</div>"
      ],
      "text/plain": [
       "   Ocurrencia  Pago  Valor_pagado\n",
       "0        2018  2018     34.956130\n",
       "1        2018  2019     32.076114\n",
       "2        2018  2018      2.961294\n",
       "3        2018  2018     41.921648\n",
       "4        2018  2018     37.585113"
      ]
     },
     "execution_count": 156,
     "metadata": {},
     "output_type": "execute_result"
    }
   ],
   "source": [
    "desarrollopagosAT.head()"
   ]
  },
  {
   "cell_type": "code",
   "execution_count": 169,
   "metadata": {},
   "outputs": [
    {
     "data": {
      "text/plain": [
       "100.0"
      ]
     },
     "execution_count": 169,
     "metadata": {},
     "output_type": "execute_result"
    }
   ],
   "source": [
    "años = desarrollopagosAT.Ocurrencia.unique()\n",
    "\n",
    "A = len(desarrollopagosAT.query('Ocurrencia == @años[0] & Pago ==  @años[0]')) * 100 / len(desarrollopagosAT.query('Ocurrencia == @años[0]'))\n",
    "B = len(desarrollopagosAT.query('Ocurrencia == @años[0] & Pago ==  @años[1]')) * 100 / len(desarrollopagosAT.query('Ocurrencia == @años[0]'))\n",
    "C = len(desarrollopagosAT.query('Ocurrencia == @años[0] & Pago ==  @años[2]')) * 100 / len(desarrollopagosAT.query('Ocurrencia == @años[0]'))\n",
    "D = len(desarrollopagosAT.query('Ocurrencia == @años[0] & Pago ==  @años[3]')) * 100 / len(desarrollopagosAT.query('Ocurrencia == @años[0]'))\n",
    "\n",
    "A + B + C + D "
   ]
  },
  {
   "cell_type": "code",
   "execution_count": 170,
   "metadata": {},
   "outputs": [
    {
     "data": {
      "text/html": [
       "<div>\n",
       "<style scoped>\n",
       "    .dataframe tbody tr th:only-of-type {\n",
       "        vertical-align: middle;\n",
       "    }\n",
       "\n",
       "    .dataframe tbody tr th {\n",
       "        vertical-align: top;\n",
       "    }\n",
       "\n",
       "    .dataframe thead th {\n",
       "        text-align: right;\n",
       "    }\n",
       "</style>\n",
       "<table border=\"1\" class=\"dataframe\">\n",
       "  <thead>\n",
       "    <tr style=\"text-align: right;\">\n",
       "      <th></th>\n",
       "      <th>Pago1</th>\n",
       "    </tr>\n",
       "    <tr>\n",
       "      <th>Ocurrencia</th>\n",
       "      <th></th>\n",
       "    </tr>\n",
       "  </thead>\n",
       "  <tbody>\n",
       "    <tr>\n",
       "      <th>A</th>\n",
       "      <td>59.977460</td>\n",
       "    </tr>\n",
       "    <tr>\n",
       "      <th>B</th>\n",
       "      <td>29.973133</td>\n",
       "    </tr>\n",
       "    <tr>\n",
       "      <th>C</th>\n",
       "      <td>7.036698</td>\n",
       "    </tr>\n",
       "    <tr>\n",
       "      <th>D</th>\n",
       "      <td>3.012709</td>\n",
       "    </tr>\n",
       "  </tbody>\n",
       "</table>\n",
       "</div>"
      ],
      "text/plain": [
       "                Pago1\n",
       "Ocurrencia           \n",
       "A           59.977460\n",
       "B           29.973133\n",
       "C            7.036698\n",
       "D            3.012709"
      ]
     },
     "execution_count": 170,
     "metadata": {},
     "output_type": "execute_result"
    }
   ],
   "source": [
    "porcentaje_pagos_at = pd.DataFrame({\n",
    "    'Ocurrencia': [\"A\", \"B\", \"C\", \"D\"],\n",
    "    'Pago1': [A, B, C, D]\n",
    "})\n",
    "\n",
    "porcentaje_pagos_at.set_index(\"Ocurrencia\", inplace=True)\n",
    "porcentaje_pagos_at.head()"
   ]
  },
  {
   "cell_type": "code",
   "execution_count": 235,
   "metadata": {},
   "outputs": [],
   "source": [
    "def valor_triangular(df, años):\n",
    "    gamma = []\n",
    "    sigma = []\n",
    "    for i in range(len(años)): \n",
    "        gamma.append(len(df.query('Ocurrencia == @años[@i] & Pago == @años[@i]')))\n",
    "        try:\n",
    "            sigma.append(len(df.query('Ocurrencia == @años[@i] & Pago == @años[@i+1]'))+ gamma[i])\n",
    "        except:\n",
    "            sigma.append(np.nan)\n",
    "    \n",
    "    return gamma, sigma"
   ]
  },
  {
   "cell_type": "code",
   "execution_count": 236,
   "metadata": {},
   "outputs": [],
   "source": [
    "gamma, sigma = valor_triangular(desarrollopagosAT, años)\n",
    "\n",
    "ChainLadderAT = pd.DataFrame({\n",
    "    'Ocurrencia': años,\n",
    "    '0': gamma,\n",
    "    '1': sigma\n",
    "})"
   ]
  },
  {
   "cell_type": "code",
   "execution_count": 237,
   "metadata": {},
   "outputs": [
    {
     "data": {
      "text/html": [
       "<div>\n",
       "<style scoped>\n",
       "    .dataframe tbody tr th:only-of-type {\n",
       "        vertical-align: middle;\n",
       "    }\n",
       "\n",
       "    .dataframe tbody tr th {\n",
       "        vertical-align: top;\n",
       "    }\n",
       "\n",
       "    .dataframe thead th {\n",
       "        text-align: right;\n",
       "    }\n",
       "</style>\n",
       "<table border=\"1\" class=\"dataframe\">\n",
       "  <thead>\n",
       "    <tr style=\"text-align: right;\">\n",
       "      <th></th>\n",
       "      <th>Ocurrencia</th>\n",
       "      <th>0</th>\n",
       "      <th>1</th>\n",
       "    </tr>\n",
       "  </thead>\n",
       "  <tbody>\n",
       "    <tr>\n",
       "      <th>0</th>\n",
       "      <td>2018</td>\n",
       "      <td>59605</td>\n",
       "      <td>89392.0</td>\n",
       "    </tr>\n",
       "    <tr>\n",
       "      <th>1</th>\n",
       "      <td>2019</td>\n",
       "      <td>57305</td>\n",
       "      <td>90260.0</td>\n",
       "    </tr>\n",
       "    <tr>\n",
       "      <th>2</th>\n",
       "      <td>2020</td>\n",
       "      <td>55303</td>\n",
       "      <td>90342.0</td>\n",
       "    </tr>\n",
       "    <tr>\n",
       "      <th>3</th>\n",
       "      <td>2021</td>\n",
       "      <td>60407</td>\n",
       "      <td>90590.0</td>\n",
       "    </tr>\n",
       "    <tr>\n",
       "      <th>4</th>\n",
       "      <td>2022</td>\n",
       "      <td>64964</td>\n",
       "      <td>NaN</td>\n",
       "    </tr>\n",
       "  </tbody>\n",
       "</table>\n",
       "</div>"
      ],
      "text/plain": [
       "   Ocurrencia      0        1\n",
       "0        2018  59605  89392.0\n",
       "1        2019  57305  90260.0\n",
       "2        2020  55303  90342.0\n",
       "3        2021  60407  90590.0\n",
       "4        2022  64964      NaN"
      ]
     },
     "execution_count": 237,
     "metadata": {},
     "output_type": "execute_result"
    }
   ],
   "source": [
    "ChainLadderAT.head()"
   ]
  },
  {
   "cell_type": "markdown",
   "metadata": {},
   "source": [
    "### Enfermedades laborales"
   ]
  },
  {
   "cell_type": "code",
   "execution_count": null,
   "metadata": {},
   "outputs": [
    {
     "data": {
      "text/html": [
       "<div>\n",
       "<style scoped>\n",
       "    .dataframe tbody tr th:only-of-type {\n",
       "        vertical-align: middle;\n",
       "    }\n",
       "\n",
       "    .dataframe tbody tr th {\n",
       "        vertical-align: top;\n",
       "    }\n",
       "\n",
       "    .dataframe thead th {\n",
       "        text-align: right;\n",
       "    }\n",
       "</style>\n",
       "<table border=\"1\" class=\"dataframe\">\n",
       "  <thead>\n",
       "    <tr style=\"text-align: right;\">\n",
       "      <th></th>\n",
       "      <th>Ocurrencia</th>\n",
       "      <th>Pago</th>\n",
       "      <th>Valor_pagado</th>\n",
       "    </tr>\n",
       "  </thead>\n",
       "  <tbody>\n",
       "    <tr>\n",
       "      <th>0</th>\n",
       "      <td>2018</td>\n",
       "      <td>2019</td>\n",
       "      <td>168.104438</td>\n",
       "    </tr>\n",
       "    <tr>\n",
       "      <th>1</th>\n",
       "      <td>2018</td>\n",
       "      <td>2019</td>\n",
       "      <td>49.782515</td>\n",
       "    </tr>\n",
       "    <tr>\n",
       "      <th>2</th>\n",
       "      <td>2018</td>\n",
       "      <td>2018</td>\n",
       "      <td>28.468882</td>\n",
       "    </tr>\n",
       "    <tr>\n",
       "      <th>3</th>\n",
       "      <td>2018</td>\n",
       "      <td>2020</td>\n",
       "      <td>66.836737</td>\n",
       "    </tr>\n",
       "    <tr>\n",
       "      <th>4</th>\n",
       "      <td>2018</td>\n",
       "      <td>2020</td>\n",
       "      <td>12.570004</td>\n",
       "    </tr>\n",
       "  </tbody>\n",
       "</table>\n",
       "</div>"
      ],
      "text/plain": [
       "   Ocurrencia  Pago  Valor_pagado\n",
       "0        2018  2019    168.104438\n",
       "1        2018  2019     49.782515\n",
       "2        2018  2018     28.468882\n",
       "3        2018  2020     66.836737\n",
       "4        2018  2020     12.570004"
      ]
     },
     "metadata": {},
     "output_type": "display_data"
    }
   ],
   "source": [
    "desarrollopagosEL.head()"
   ]
  },
  {
   "cell_type": "code",
   "execution_count": 171,
   "metadata": {},
   "outputs": [
    {
     "data": {
      "text/plain": [
       "100.0"
      ]
     },
     "execution_count": 171,
     "metadata": {},
     "output_type": "execute_result"
    }
   ],
   "source": [
    "años = desarrollopagosEL.Ocurrencia.unique()\n",
    "\n",
    "A = len(desarrollopagosEL.query('Ocurrencia == @años[0] & Pago ==  @años[0]')) * 100 / len(desarrollopagosEL.query('Ocurrencia == @años[0]'))\n",
    "B = len(desarrollopagosEL.query('Ocurrencia == @años[0] & Pago ==  @años[1]')) * 100 / len(desarrollopagosEL.query('Ocurrencia == @años[0]'))\n",
    "C = len(desarrollopagosEL.query('Ocurrencia == @años[0] & Pago ==  @años[2]')) * 100 / len(desarrollopagosEL.query('Ocurrencia == @años[0]'))\n",
    "D = len(desarrollopagosEL.query('Ocurrencia == @años[0] & Pago ==  @años[3]')) * 100 / len(desarrollopagosEL.query('Ocurrencia == @años[0]'))\n",
    "\n",
    "A + B + C + D "
   ]
  },
  {
   "cell_type": "code",
   "execution_count": 172,
   "metadata": {},
   "outputs": [
    {
     "data": {
      "text/html": [
       "<div>\n",
       "<style scoped>\n",
       "    .dataframe tbody tr th:only-of-type {\n",
       "        vertical-align: middle;\n",
       "    }\n",
       "\n",
       "    .dataframe tbody tr th {\n",
       "        vertical-align: top;\n",
       "    }\n",
       "\n",
       "    .dataframe thead th {\n",
       "        text-align: right;\n",
       "    }\n",
       "</style>\n",
       "<table border=\"1\" class=\"dataframe\">\n",
       "  <thead>\n",
       "    <tr style=\"text-align: right;\">\n",
       "      <th></th>\n",
       "      <th>Pago1</th>\n",
       "    </tr>\n",
       "    <tr>\n",
       "      <th>Ocurrencia</th>\n",
       "      <th></th>\n",
       "    </tr>\n",
       "  </thead>\n",
       "  <tbody>\n",
       "    <tr>\n",
       "      <th>A</th>\n",
       "      <td>39.918115</td>\n",
       "    </tr>\n",
       "    <tr>\n",
       "      <th>B</th>\n",
       "      <td>29.930098</td>\n",
       "    </tr>\n",
       "    <tr>\n",
       "      <th>C</th>\n",
       "      <td>20.126822</td>\n",
       "    </tr>\n",
       "    <tr>\n",
       "      <th>D</th>\n",
       "      <td>10.024965</td>\n",
       "    </tr>\n",
       "  </tbody>\n",
       "</table>\n",
       "</div>"
      ],
      "text/plain": [
       "                Pago1\n",
       "Ocurrencia           \n",
       "A           39.918115\n",
       "B           29.930098\n",
       "C           20.126822\n",
       "D           10.024965"
      ]
     },
     "execution_count": 172,
     "metadata": {},
     "output_type": "execute_result"
    }
   ],
   "source": [
    "porcentaje_pagos_el = pd.DataFrame({\n",
    "    'Ocurrencia': [\"A\", \"B\", \"C\", \"D\"],\n",
    "    'Pago1': [A, B, C, D]\n",
    "})\n",
    "\n",
    "porcentaje_pagos_el.set_index(\"Ocurrencia\", inplace=True)\n",
    "porcentaje_pagos_el.head()"
   ]
  },
  {
   "cell_type": "code",
   "execution_count": 238,
   "metadata": {},
   "outputs": [],
   "source": [
    "gamma, sigma = valor_triangular(desarrollopagosEL, años)\n",
    "\n",
    "ChainLadderEL = pd.DataFrame({\n",
    "    'Ocurrencia': años,\n",
    "    '0': gamma,\n",
    "    '1': sigma\n",
    "})"
   ]
  },
  {
   "cell_type": "code",
   "execution_count": 239,
   "metadata": {},
   "outputs": [
    {
     "data": {
      "text/html": [
       "<div>\n",
       "<style scoped>\n",
       "    .dataframe tbody tr th:only-of-type {\n",
       "        vertical-align: middle;\n",
       "    }\n",
       "\n",
       "    .dataframe tbody tr th {\n",
       "        vertical-align: top;\n",
       "    }\n",
       "\n",
       "    .dataframe thead th {\n",
       "        text-align: right;\n",
       "    }\n",
       "</style>\n",
       "<table border=\"1\" class=\"dataframe\">\n",
       "  <thead>\n",
       "    <tr style=\"text-align: right;\">\n",
       "      <th></th>\n",
       "      <th>Ocurrencia</th>\n",
       "      <th>0</th>\n",
       "      <th>1</th>\n",
       "    </tr>\n",
       "  </thead>\n",
       "  <tbody>\n",
       "    <tr>\n",
       "      <th>0</th>\n",
       "      <td>2018</td>\n",
       "      <td>39974</td>\n",
       "      <td>69946.0</td>\n",
       "    </tr>\n",
       "    <tr>\n",
       "      <th>1</th>\n",
       "      <td>2019</td>\n",
       "      <td>49851</td>\n",
       "      <td>74870.0</td>\n",
       "    </tr>\n",
       "    <tr>\n",
       "      <th>2</th>\n",
       "      <td>2020</td>\n",
       "      <td>39908</td>\n",
       "      <td>73002.0</td>\n",
       "    </tr>\n",
       "    <tr>\n",
       "      <th>3</th>\n",
       "      <td>2021</td>\n",
       "      <td>49407</td>\n",
       "      <td>74334.0</td>\n",
       "    </tr>\n",
       "    <tr>\n",
       "      <th>4</th>\n",
       "      <td>2022</td>\n",
       "      <td>35144</td>\n",
       "      <td>NaN</td>\n",
       "    </tr>\n",
       "  </tbody>\n",
       "</table>\n",
       "</div>"
      ],
      "text/plain": [
       "   Ocurrencia      0        1\n",
       "0        2018  39974  69946.0\n",
       "1        2019  49851  74870.0\n",
       "2        2020  39908  73002.0\n",
       "3        2021  49407  74334.0\n",
       "4        2022  35144      NaN"
      ]
     },
     "execution_count": 239,
     "metadata": {},
     "output_type": "execute_result"
    }
   ],
   "source": [
    "ChainLadderEL.head()"
   ]
  },
  {
   "cell_type": "code",
   "execution_count": 243,
   "metadata": {},
   "outputs": [
    {
     "data": {
      "text/plain": [
       "73038.0"
      ]
     },
     "execution_count": 243,
     "metadata": {},
     "output_type": "execute_result"
    }
   ],
   "source": [
    "ChainLadderEL['1'].mean()"
   ]
  }
 ],
 "metadata": {
  "kernelspec": {
   "display_name": "Python 3",
   "language": "python",
   "name": "python3"
  },
  "language_info": {
   "codemirror_mode": {
    "name": "ipython",
    "version": 3
   },
   "file_extension": ".py",
   "mimetype": "text/x-python",
   "name": "python",
   "nbconvert_exporter": "python",
   "pygments_lexer": "ipython3",
   "version": "3.12.2"
  }
 },
 "nbformat": 4,
 "nbformat_minor": 2
}
